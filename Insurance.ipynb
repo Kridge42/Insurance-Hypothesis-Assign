{
 "cells": [
  {
   "cell_type": "code",
   "execution_count": 2,
   "id": "835d334c",
   "metadata": {},
   "outputs": [],
   "source": [
    "# Imports\n",
    "import pandas as pd\n",
    "import numpy as np\n",
    "import matplotlib.pyplot as plt\n",
    "import seaborn as sns\n",
    "import scipy.stats as stats"
   ]
  },
  {
   "cell_type": "code",
   "execution_count": 4,
   "id": "03971967",
   "metadata": {
    "scrolled": false
   },
   "outputs": [
    {
     "name": "stdout",
     "output_type": "stream",
     "text": [
      "<class 'pandas.core.frame.DataFrame'>\n",
      "RangeIndex: 1338 entries, 0 to 1337\n",
      "Data columns (total 7 columns):\n",
      " #   Column    Non-Null Count  Dtype  \n",
      "---  ------    --------------  -----  \n",
      " 0   age       1338 non-null   int64  \n",
      " 1   sex       1338 non-null   object \n",
      " 2   bmi       1338 non-null   float64\n",
      " 3   children  1338 non-null   int64  \n",
      " 4   smoker    1338 non-null   object \n",
      " 5   region    1338 non-null   object \n",
      " 6   charges   1338 non-null   float64\n",
      "dtypes: float64(2), int64(2), object(3)\n",
      "memory usage: 73.3+ KB\n"
     ]
    }
   ],
   "source": [
    "df = pd.read_csv('Data/insurance - insurance.csv')\n",
    "df.info()"
   ]
  },
  {
   "cell_type": "code",
   "execution_count": 7,
   "id": "270ebc3e",
   "metadata": {
    "scrolled": true
   },
   "outputs": [
    {
     "data": {
      "text/plain": [
       "no     1064\n",
       "yes     274\n",
       "Name: smoker, dtype: int64"
      ]
     },
     "execution_count": 7,
     "metadata": {},
     "output_type": "execute_result"
    }
   ],
   "source": [
    "df.smoker.value_counts()"
   ]
  },
  {
   "cell_type": "code",
   "execution_count": null,
   "id": "ca1aa5dd",
   "metadata": {},
   "outputs": [],
   "source": []
  },
  {
   "cell_type": "code",
   "execution_count": 8,
   "id": "2cbf2ec3",
   "metadata": {},
   "outputs": [],
   "source": [
    "# Filtering out those with and without super strength\n",
    "smokes = df.loc[df['smoker']== 'yes'].copy()\n",
    "non = df.loc[df['smoker']== 'no'].copy()"
   ]
  },
  {
   "cell_type": "code",
   "execution_count": 10,
   "id": "b04fa536",
   "metadata": {},
   "outputs": [],
   "source": [
    "# Creating varibles for feature of interest\n",
    "df_smoke = smokes['charges']\n",
    "df_nope = non['charges']"
   ]
  },
  {
   "cell_type": "markdown",
   "id": "e6ca7d74",
   "metadata": {},
   "source": [
    "## HYPOTH and select test"
   ]
  },
  {
   "cell_type": "markdown",
   "id": "fea33265",
   "metadata": {},
   "source": [
    "## Test assump"
   ]
  },
  {
   "cell_type": "code",
   "execution_count": 11,
   "id": "47a2042c",
   "metadata": {},
   "outputs": [
    {
     "data": {
      "text/plain": [
       "0"
      ]
     },
     "execution_count": 11,
     "metadata": {},
     "output_type": "execute_result"
    }
   ],
   "source": [
    "# check outliers for the smoke\n",
    "zscores_smokes= stats.zscore(df_smoke)\n",
    "outliers = abs(zscores_smokes)>3\n",
    "np.sum(outliers)"
   ]
  },
  {
   "cell_type": "code",
   "execution_count": 12,
   "id": "14dc29bb",
   "metadata": {},
   "outputs": [
    {
     "data": {
      "text/plain": [
       "24"
      ]
     },
     "execution_count": 12,
     "metadata": {},
     "output_type": "execute_result"
    }
   ],
   "source": [
    "# check outliers for the nope\n",
    "zscores_nope= stats.zscore(df_nope)\n",
    "nope_outliers = abs(zscores_nope)>3\n",
    "np.sum(nope_outliers)"
   ]
  },
  {
   "cell_type": "code",
   "execution_count": 14,
   "id": "2ba48253",
   "metadata": {},
   "outputs": [],
   "source": [
    "# remove outliers from nope group\n",
    "df_nope = df_nope[(np.abs(stats.zscore(df_nope)) < 3)]"
   ]
  },
  {
   "cell_type": "markdown",
   "id": "7ab6b369",
   "metadata": {},
   "source": [
    "## Check for normality"
   ]
  },
  {
   "cell_type": "code",
   "execution_count": 17,
   "id": "57ce04b2",
   "metadata": {
    "scrolled": true
   },
   "outputs": [
    {
     "data": {
      "text/plain": [
       "NormaltestResult(statistic=61.03941356533816, pvalue=5.564930630036463e-14)"
      ]
     },
     "execution_count": 17,
     "metadata": {},
     "output_type": "execute_result"
    }
   ],
   "source": [
    "# test the smokers group for normality\n",
    "result_smoking_money = stats.normaltest(df_smoke)\n",
    "result_smoking_money"
   ]
  },
  {
   "cell_type": "code",
   "execution_count": 18,
   "id": "fd553a11",
   "metadata": {
    "scrolled": true
   },
   "outputs": [
    {
     "data": {
      "text/plain": [
       "NormaltestResult(statistic=163.80367047789198, pvalue=2.6945416315543976e-36)"
      ]
     },
     "execution_count": 18,
     "metadata": {},
     "output_type": "execute_result"
    }
   ],
   "source": [
    "# test the non-smokers group for normality\n",
    "result_noping_money = stats.normaltest(df_nope)\n",
    "result_noping_money"
   ]
  },
  {
   "cell_type": "markdown",
   "id": "b949e671",
   "metadata": {},
   "source": [
    "#### Our p-values for both groups are well below 0.05, which means our data is NOT normally distributed.  However, our sample size is large enough to proceed without satisfying this test.  For an independent t-test, sample sizes of 15 per group are considered sufficient."
   ]
  },
  {
   "cell_type": "markdown",
   "id": "817154af",
   "metadata": {},
   "source": [
    "### Test for equal variance"
   ]
  },
  {
   "cell_type": "code",
   "execution_count": 19,
   "id": "8070f622",
   "metadata": {
    "scrolled": true
   },
   "outputs": [
    {
     "data": {
      "text/plain": [
       "LeveneResult(statistic=520.7468821724297, pvalue=2.4247238784347824e-97)"
      ]
     },
     "execution_count": 19,
     "metadata": {},
     "output_type": "execute_result"
    }
   ],
   "source": [
    "# Test for equal variance\n",
    "result = stats.levene(df_smoke, df_nope)\n",
    "result"
   ]
  },
  {
   "cell_type": "markdown",
   "id": "1d6197f0",
   "metadata": {},
   "source": [
    "Variance is not equal so I need to use the good ol' \"equal_var=False\" while breaking out that t-test"
   ]
  },
  {
   "cell_type": "code",
   "execution_count": 21,
   "id": "f5eb3f13",
   "metadata": {
    "scrolled": true
   },
   "outputs": [
    {
     "data": {
      "text/plain": [
       "Ttest_indResult(statistic=33.732305987092516, pvalue=2.575322662587431e-104)"
      ]
     },
     "execution_count": 21,
     "metadata": {},
     "output_type": "execute_result"
    }
   ],
   "source": [
    "# Independent t-test with equal_var set to False\n",
    "result = stats.ttest_ind(df_smoke, df_nope, equal_var=False)\n",
    "result"
   ]
  },
  {
   "cell_type": "markdown",
   "id": "9407bbc3",
   "metadata": {},
   "source": [
    "#### Yeah smokers are gonna have higher insurance and not likely to be equal compared to the non-smokers. Definitely see that in the p-value and I will reject the null hypothesis."
   ]
  },
  {
   "cell_type": "code",
   "execution_count": 23,
   "id": "fdb2ca55",
   "metadata": {},
   "outputs": [
    {
     "data": {
      "image/png": "[encoded data removed]",
      "text/plain": [
       "<Figure size 640x480 with 1 Axes>"
      ]
     },
     "metadata": {},
     "output_type": "display_data"
    }
   ],
   "source": [
    "# Visualize what you can see\n",
    "sns.barplot(data=df, x='smoker', y='charges');"
   ]
  },
  {
   "cell_type": "markdown",
   "id": "8bf25d2a",
   "metadata": {},
   "source": [
    "#### The charges for smokers is significantly higher than charges for those who do not smoke."
   ]
  }
 ],
 "metadata": {
  "kernelspec": {
   "display_name": "Python (dojo-env)",
   "language": "python",
   "name": "dojo-env"
  },
  "language_info": {
   "codemirror_mode": {
    "name": "ipython",
    "version": 3
   },
   "file_extension": ".py",
   "mimetype": "text/x-python",
   "name": "python",
   "nbconvert_exporter": "python",
   "pygments_lexer": "ipython3",
   "version": "3.9.15"
  },
  "toc": {
   "base_numbering": 1,
   "nav_menu": {},
   "number_sections": true,
   "sideBar": true,
   "skip_h1_title": false,
   "title_cell": "Table of Contents",
   "title_sidebar": "Contents",
   "toc_cell": false,
   "toc_position": {},
   "toc_section_display": true,
   "toc_window_display": false
  }
 },
 "nbformat": 4,
 "nbformat_minor": 5
}

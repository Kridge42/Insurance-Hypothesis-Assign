{
 "cells": [
  {
   "cell_type": "markdown",
   "id": "52c4dd90",
   "metadata": {},
   "source": [
    "### Hypothesis Testing with Insurance Data (Core)"
   ]
  },
  {
   "cell_type": "code",
   "execution_count": 1,
   "id": "835d334c",
   "metadata": {},
   "outputs": [],
   "source": [
    "# Imports\n",
    "import pandas as pd\n",
    "import numpy as np\n",
    "import matplotlib.pyplot as plt\n",
    "import seaborn as sns\n",
    "import scipy.stats as stats"
   ]
  },
  {
   "cell_type": "code",
   "execution_count": 2,
   "id": "03971967",
   "metadata": {
    "scrolled": false
   },
   "outputs": [
    {
     "name": "stdout",
     "output_type": "stream",
     "text": [
      "<class 'pandas.core.frame.DataFrame'>\n",
      "RangeIndex: 1338 entries, 0 to 1337\n",
      "Data columns (total 7 columns):\n",
      " #   Column    Non-Null Count  Dtype  \n",
      "---  ------    --------------  -----  \n",
      " 0   age       1338 non-null   int64  \n",
      " 1   sex       1338 non-null   object \n",
      " 2   bmi       1338 non-null   float64\n",
      " 3   children  1338 non-null   int64  \n",
      " 4   smoker    1338 non-null   object \n",
      " 5   region    1338 non-null   object \n",
      " 6   charges   1338 non-null   float64\n",
      "dtypes: float64(2), int64(2), object(3)\n",
      "memory usage: 73.3+ KB\n"
     ]
    }
   ],
   "source": [
    "df = pd.read_csv('Data/insurance - insurance.csv')\n",
    "df.info()"
   ]
  },
  {
   "cell_type": "code",
   "execution_count": 3,
   "id": "270ebc3e",
   "metadata": {
    "scrolled": true
   },
   "outputs": [
    {
     "data": {
      "text/plain": [
       "no     1064\n",
       "yes     274\n",
       "Name: smoker, dtype: int64"
      ]
     },
     "execution_count": 3,
     "metadata": {},
     "output_type": "execute_result"
    }
   ],
   "source": [
    "df.smoker.value_counts()"
   ]
  },
  {
   "cell_type": "markdown",
   "id": "cca264c5",
   "metadata": {},
   "source": [
    "# Do smokers have higher insurance charges than non-smokers?"
   ]
  },
  {
   "cell_type": "code",
   "execution_count": 4,
   "id": "2cbf2ec3",
   "metadata": {},
   "outputs": [],
   "source": [
    "# Filtering out those with and without super strength\n",
    "smokes = df.loc[df['smoker']== 'yes'].copy()\n",
    "non = df.loc[df['smoker']== 'no'].copy()"
   ]
  },
  {
   "cell_type": "code",
   "execution_count": 5,
   "id": "b04fa536",
   "metadata": {},
   "outputs": [],
   "source": [
    "# Creating varibles for feature of interest\n",
    "df_smoke = smokes['charges']\n",
    "df_nope = non['charges']"
   ]
  },
  {
   "cell_type": "markdown",
   "id": "e6ca7d74",
   "metadata": {},
   "source": [
    "## State your Null Hypothesis and Alternative Hypothesis"
   ]
  },
  {
   "cell_type": "markdown",
   "id": "f6893ff7",
   "metadata": {},
   "source": [
    "1. Null Hypothesis: There is no significant difference in charges for those who smoke and those who do not smoke...\n",
    "2. Alternative Hypothesis: There is a vast difference in charges for those who smoke and those who do not smoke."
   ]
  },
  {
   "cell_type": "markdown",
   "id": "fea33265",
   "metadata": {},
   "source": [
    "## Test selection and assumptions"
   ]
  },
  {
   "cell_type": "markdown",
   "id": "c6e0685b",
   "metadata": {},
   "source": [
    "1. Selection\n",
    " - Data is numeric\n",
    " - Two groups (smoke and no smoke)\n",
    " - Sample T-Test selected\n",
    " \n",
    "\n",
    "2. Assumptions\n",
    "  - No outliers of significance\n",
    " - Normality\n",
    " - Equal Variance"
   ]
  },
  {
   "cell_type": "code",
   "execution_count": 6,
   "id": "47a2042c",
   "metadata": {},
   "outputs": [
    {
     "data": {
      "text/plain": [
       "0"
      ]
     },
     "execution_count": 6,
     "metadata": {},
     "output_type": "execute_result"
    }
   ],
   "source": [
    "# check outliers for the smoke\n",
    "zscores_smokes= stats.zscore(df_smoke)\n",
    "outliers = abs(zscores_smokes)>3\n",
    "np.sum(outliers)"
   ]
  },
  {
   "cell_type": "code",
   "execution_count": 7,
   "id": "14dc29bb",
   "metadata": {},
   "outputs": [
    {
     "data": {
      "text/plain": [
       "24"
      ]
     },
     "execution_count": 7,
     "metadata": {},
     "output_type": "execute_result"
    }
   ],
   "source": [
    "# check outliers for the nope\n",
    "zscores_nope= stats.zscore(df_nope)\n",
    "nope_outliers = abs(zscores_nope)>3\n",
    "np.sum(nope_outliers)"
   ]
  },
  {
   "cell_type": "code",
   "execution_count": 8,
   "id": "2ba48253",
   "metadata": {},
   "outputs": [],
   "source": [
    "# remove outliers from nope group\n",
    "df_nope = df_nope[(np.abs(stats.zscore(df_nope)) < 3)]"
   ]
  },
  {
   "cell_type": "markdown",
   "id": "7ab6b369",
   "metadata": {},
   "source": [
    "## Check for normality"
   ]
  },
  {
   "cell_type": "code",
   "execution_count": 9,
   "id": "57ce04b2",
   "metadata": {
    "scrolled": true
   },
   "outputs": [
    {
     "data": {
      "text/plain": [
       "NormaltestResult(statistic=61.03941356533816, pvalue=5.564930630036463e-14)"
      ]
     },
     "execution_count": 9,
     "metadata": {},
     "output_type": "execute_result"
    }
   ],
   "source": [
    "# test the smokers group for normality\n",
    "result_smoking_money = stats.normaltest(df_smoke)\n",
    "result_smoking_money"
   ]
  },
  {
   "cell_type": "code",
   "execution_count": 10,
   "id": "fd553a11",
   "metadata": {
    "scrolled": true
   },
   "outputs": [
    {
     "data": {
      "text/plain": [
       "NormaltestResult(statistic=163.80367047789198, pvalue=2.6945416315543976e-36)"
      ]
     },
     "execution_count": 10,
     "metadata": {},
     "output_type": "execute_result"
    }
   ],
   "source": [
    "# test the non-smokers group for normality\n",
    "result_noping_money = stats.normaltest(df_nope)\n",
    "result_noping_money"
   ]
  },
  {
   "cell_type": "markdown",
   "id": "b949e671",
   "metadata": {},
   "source": [
    "#### Our p-values for both groups are well below 0.05, which means our data is NOT normally distributed.  However, our sample size is large enough to proceed without satisfying this test.  For an independent t-test, sample sizes of 15 per group are considered sufficient."
   ]
  },
  {
   "cell_type": "markdown",
   "id": "817154af",
   "metadata": {},
   "source": [
    "## Test for equal variance"
   ]
  },
  {
   "cell_type": "code",
   "execution_count": 11,
   "id": "8070f622",
   "metadata": {
    "scrolled": true
   },
   "outputs": [
    {
     "data": {
      "text/plain": [
       "LeveneResult(statistic=520.7468821724297, pvalue=2.4247238784347824e-97)"
      ]
     },
     "execution_count": 11,
     "metadata": {},
     "output_type": "execute_result"
    }
   ],
   "source": [
    "# Test for equal variance\n",
    "result = stats.levene(df_smoke, df_nope)\n",
    "result"
   ]
  },
  {
   "cell_type": "markdown",
   "id": "1d6197f0",
   "metadata": {},
   "source": [
    "#### Variance is not equal so I need to use the good ol' \"equal_var=False\" while breaking out that t-test"
   ]
  },
  {
   "cell_type": "code",
   "execution_count": 12,
   "id": "f5eb3f13",
   "metadata": {
    "scrolled": true
   },
   "outputs": [
    {
     "data": {
      "text/plain": [
       "Ttest_indResult(statistic=33.732305987092516, pvalue=2.575322662587431e-104)"
      ]
     },
     "execution_count": 12,
     "metadata": {},
     "output_type": "execute_result"
    }
   ],
   "source": [
    "# Independent t-test with equal_var set to False\n",
    "result = stats.ttest_ind(df_smoke, df_nope, equal_var=False)\n",
    "result"
   ]
  },
  {
   "cell_type": "markdown",
   "id": "4094d369",
   "metadata": {},
   "source": [
    "## Interpret p-value and reject or fail to reject  null hypothesis "
   ]
  },
  {
   "cell_type": "markdown",
   "id": "9407bbc3",
   "metadata": {},
   "source": [
    "#### Yeah smokers are gonna have higher insurance and not likely to have equal insurance charges compared to the non-smokers. We can definitely see that in the p-value and I will reject the null hypothesis.\n",
    "\n",
    "- Reject the null hypothesis\n",
    "- Support the Alternate hypothesis because there is a huge difference in the charges for smokers an non-smokers in this data."
   ]
  },
  {
   "cell_type": "code",
   "execution_count": 13,
   "id": "fdb2ca55",
   "metadata": {
    "scrolled": true
   },
   "outputs": [
    {
     "data": {
      "image/png": "[encoded data removed]",
      "text/plain": [
       "<Figure size 640x480 with 1 Axes>"
      ]
     },
     "metadata": {},
     "output_type": "display_data"
    }
   ],
   "source": [
    "# Visualize what you can see\n",
    "sns.barplot(data=df, x='smoker', y='charges');"
   ]
  },
  {
   "cell_type": "markdown",
   "id": "8bf25d2a",
   "metadata": {},
   "source": [
    "#### The charges for smokers is significantly higher than charges for those who do not smoke."
   ]
  },
  {
   "cell_type": "markdown",
   "id": "257689c5",
   "metadata": {},
   "source": [
    "# Are men more likely to smoke than women?"
   ]
  },
  {
   "cell_type": "markdown",
   "id": "b92e5ce3",
   "metadata": {},
   "source": [
    "## State Null Hypothesis and Alternative Hypothesis"
   ]
  },
  {
   "cell_type": "markdown",
   "id": "0214da41",
   "metadata": {},
   "source": [
    "1. Null Hypothesis: Men and women smoking equally\n",
    "2. Alternative hypothesis: There is a significant difference between the number of smokers in each gender."
   ]
  },
  {
   "cell_type": "markdown",
   "id": "3d402a81",
   "metadata": {},
   "source": [
    "## Test selection and assumptions"
   ]
  },
  {
   "cell_type": "markdown",
   "id": "96863bc2",
   "metadata": {},
   "source": [
    "1. Selection\n",
    " - Data is categorical\n",
    " - Two groups (men and women)\n",
    " - Chi-squared test selected\n",
    " \n",
    "\n",
    "2. Assumptions\n",
    " - There are two categorical variables (ordinal or nominal).\n",
    " - The outcomes are independent."
   ]
  },
  {
   "cell_type": "code",
   "execution_count": 14,
   "id": "8e0e48f7",
   "metadata": {
    "scrolled": true
   },
   "outputs": [
    {
     "data": {
      "text/html": [
       "<div>\n",
       "<style scoped>\n",
       "    .dataframe tbody tr th:only-of-type {\n",
       "        vertical-align: middle;\n",
       "    }\n",
       "\n",
       "    .dataframe tbody tr th {\n",
       "        vertical-align: top;\n",
       "    }\n",
       "\n",
       "    .dataframe thead th {\n",
       "        text-align: right;\n",
       "    }\n",
       "</style>\n",
       "<table border=\"1\" class=\"dataframe\">\n",
       "  <thead>\n",
       "    <tr style=\"text-align: right;\">\n",
       "      <th>sex</th>\n",
       "      <th>female</th>\n",
       "      <th>male</th>\n",
       "    </tr>\n",
       "    <tr>\n",
       "      <th>smoker</th>\n",
       "      <th></th>\n",
       "      <th></th>\n",
       "    </tr>\n",
       "  </thead>\n",
       "  <tbody>\n",
       "    <tr>\n",
       "      <th>no</th>\n",
       "      <td>547</td>\n",
       "      <td>517</td>\n",
       "    </tr>\n",
       "    <tr>\n",
       "      <th>yes</th>\n",
       "      <td>115</td>\n",
       "      <td>159</td>\n",
       "    </tr>\n",
       "  </tbody>\n",
       "</table>\n",
       "</div>"
      ],
      "text/plain": [
       "sex     female  male\n",
       "smoker              \n",
       "no         547   517\n",
       "yes        115   159"
      ]
     },
     "execution_count": 14,
     "metadata": {},
     "output_type": "execute_result"
    }
   ],
   "source": [
    "# calculate the contingency table with pd.cross-tab\n",
    "table = pd.crosstab(df['smoker'], df['sex'])\n",
    "table"
   ]
  },
  {
   "cell_type": "code",
   "execution_count": 15,
   "id": "5716a470",
   "metadata": {},
   "outputs": [],
   "source": [
    "# Run the Test and Save the Output\n",
    "result = stats.chi2_contingency(table)\n",
    "chi2, p, deg_free, expected_vals = result #this labels the results"
   ]
  },
  {
   "cell_type": "code",
   "execution_count": 16,
   "id": "d97bdab0",
   "metadata": {},
   "outputs": [
    {
     "name": "stdout",
     "output_type": "stream",
     "text": [
      "0.006548143503580696\n"
     ]
    },
    {
     "data": {
      "text/plain": [
       "True"
      ]
     },
     "execution_count": 16,
     "metadata": {},
     "output_type": "execute_result"
    }
   ],
   "source": [
    "# What was our p-value?\n",
    "print(p)\n",
    "p<.05"
   ]
  },
  {
   "cell_type": "markdown",
   "id": "53a2da0a",
   "metadata": {},
   "source": [
    "## Interpret p-value and reject or fail to reject  null hypothesis"
   ]
  },
  {
   "cell_type": "markdown",
   "id": "7acc5a7e",
   "metadata": {},
   "source": [
    "- The p-value is below .05 so I can safely reject the null hypothesis.\n",
    "- There is a difference between the number of smokers in each gender. Even though the difference isn't huge, the p-value points to support for the alternate hypothesis."
   ]
  },
  {
   "cell_type": "code",
   "execution_count": 17,
   "id": "8a5f5962",
   "metadata": {
    "scrolled": true
   },
   "outputs": [
    {
     "data": {
      "image/png": "[encoded data removed]",
      "text/plain": [
       "<Figure size 640x480 with 1 Axes>"
      ]
     },
     "metadata": {},
     "output_type": "display_data"
    }
   ],
   "source": [
    "# Visual to show count for both smokers and non-smokers per gender\n",
    "sns.countplot(data=df, x='smoker', hue='sex');"
   ]
  },
  {
   "cell_type": "markdown",
   "id": "429b891d",
   "metadata": {},
   "source": [
    "# Do different regions have different charges, on average?"
   ]
  },
  {
   "cell_type": "markdown",
   "id": "5aabc7e3",
   "metadata": {},
   "source": [
    "## State Null Hypothesis and Alternative Hypothesis"
   ]
  },
  {
   "cell_type": "markdown",
   "id": "064b709c",
   "metadata": {},
   "source": [
    "1. Null Hypothesis: Charges will be equal no throughout differing regions\n",
    "2. Alternative hypothesis: There is a significant difference between amount charged and by different regions"
   ]
  },
  {
   "cell_type": "markdown",
   "id": "309c0232",
   "metadata": {},
   "source": [
    "## Test selection and assumptions"
   ]
  },
  {
   "cell_type": "markdown",
   "id": "f11d148b",
   "metadata": {},
   "source": [
    "1. Selection\n",
    " - Data is numeric\n",
    " - Multiple samples (regions)\n",
    " - ANOVA test selected\n",
    " \n",
    "\n",
    "2. Assumptions\n",
    " - No significant outliers\n",
    " - Equal variance\n",
    " - Normality\n"
   ]
  },
  {
   "cell_type": "code",
   "execution_count": 18,
   "id": "abaa9f4e",
   "metadata": {},
   "outputs": [
    {
     "data": {
      "image/png": "[encoded data removed]",
      "text/plain": [
       "<Figure size 640x480 with 1 Axes>"
      ]
     },
     "metadata": {},
     "output_type": "display_data"
    }
   ],
   "source": [
    "# Visualize data for significant outliers\n",
    "sns.scatterplot(data=df, x='region',y='charges');"
   ]
  },
  {
   "cell_type": "code",
   "execution_count": 19,
   "id": "07e8fd29",
   "metadata": {},
   "outputs": [
    {
     "data": {
      "text/plain": [
       "dict_keys(['southwest', 'southeast', 'northwest', 'northeast'])"
      ]
     },
     "execution_count": 19,
     "metadata": {},
     "output_type": "execute_result"
    }
   ],
   "source": [
    "## Create groups dictionary. \n",
    "groups = {}\n",
    "## Loop through all unique categories\n",
    "for i in df['region'].unique():\n",
    "    ## Get series for group and rename\n",
    "    data = df.loc[df['region']==i,'charges'].copy()\n",
    "    \n",
    "    # save into the dictionary\n",
    "    groups[i] = data\n",
    "groups.keys()\n",
    "\n"
   ]
  },
  {
   "cell_type": "code",
   "execution_count": 20,
   "id": "0fd10d99",
   "metadata": {
    "scrolled": true
   },
   "outputs": [
    {
     "data": {
      "text/html": [
       "<div>\n",
       "<style scoped>\n",
       "    .dataframe tbody tr th:only-of-type {\n",
       "        vertical-align: middle;\n",
       "    }\n",
       "\n",
       "    .dataframe tbody tr th {\n",
       "        vertical-align: top;\n",
       "    }\n",
       "\n",
       "    .dataframe thead th {\n",
       "        text-align: right;\n",
       "    }\n",
       "</style>\n",
       "<table border=\"1\" class=\"dataframe\">\n",
       "  <thead>\n",
       "    <tr style=\"text-align: right;\">\n",
       "      <th></th>\n",
       "      <th>n</th>\n",
       "      <th>p</th>\n",
       "      <th>test stat</th>\n",
       "    </tr>\n",
       "  </thead>\n",
       "  <tbody>\n",
       "    <tr>\n",
       "      <th>southwest</th>\n",
       "      <td>325.0</td>\n",
       "      <td>6.125298e-23</td>\n",
       "      <td>102.294059</td>\n",
       "    </tr>\n",
       "    <tr>\n",
       "      <th>southeast</th>\n",
       "      <td>364.0</td>\n",
       "      <td>4.953297e-15</td>\n",
       "      <td>65.877446</td>\n",
       "    </tr>\n",
       "    <tr>\n",
       "      <th>northwest</th>\n",
       "      <td>325.0</td>\n",
       "      <td>5.184209e-24</td>\n",
       "      <td>107.232850</td>\n",
       "    </tr>\n",
       "    <tr>\n",
       "      <th>northeast</th>\n",
       "      <td>324.0</td>\n",
       "      <td>1.455431e-19</td>\n",
       "      <td>86.747629</td>\n",
       "    </tr>\n",
       "  </tbody>\n",
       "</table>\n",
       "</div>"
      ],
      "text/plain": [
       "               n             p   test stat\n",
       "southwest  325.0  6.125298e-23  102.294059\n",
       "southeast  364.0  4.953297e-15   65.877446\n",
       "northwest  325.0  5.184209e-24  107.232850\n",
       "northeast  324.0  1.455431e-19   86.747629"
      ]
     },
     "execution_count": 20,
     "metadata": {},
     "output_type": "execute_result"
    }
   ],
   "source": [
    "## Running normal test on each group and confirming there are >20 in each group\n",
    "norm_results = {}\n",
    "for i, data in groups.items():\n",
    "    stat, p = stats.normaltest(data)\n",
    "    ## save the p val, test statistic, and the size of the group\n",
    "    norm_results[i] = {'n': len(data),\n",
    "                             'p':p,\n",
    "                             'test stat':stat,}\n",
    "## convert to a dataframe\n",
    "norm_results_df = pd.DataFrame(norm_results).T\n",
    "norm_results_df\n"
   ]
  },
  {
   "cell_type": "code",
   "execution_count": 21,
   "id": "85f21a39",
   "metadata": {
    "scrolled": false
   },
   "outputs": [
    {
     "data": {
      "text/html": [
       "<div>\n",
       "<style scoped>\n",
       "    .dataframe tbody tr th:only-of-type {\n",
       "        vertical-align: middle;\n",
       "    }\n",
       "\n",
       "    .dataframe tbody tr th {\n",
       "        vertical-align: top;\n",
       "    }\n",
       "\n",
       "    .dataframe thead th {\n",
       "        text-align: right;\n",
       "    }\n",
       "</style>\n",
       "<table border=\"1\" class=\"dataframe\">\n",
       "  <thead>\n",
       "    <tr style=\"text-align: right;\">\n",
       "      <th></th>\n",
       "      <th>n</th>\n",
       "      <th>p</th>\n",
       "      <th>test stat</th>\n",
       "      <th>sig</th>\n",
       "    </tr>\n",
       "  </thead>\n",
       "  <tbody>\n",
       "    <tr>\n",
       "      <th>southwest</th>\n",
       "      <td>325.0</td>\n",
       "      <td>6.125298e-23</td>\n",
       "      <td>102.294059</td>\n",
       "      <td>True</td>\n",
       "    </tr>\n",
       "    <tr>\n",
       "      <th>southeast</th>\n",
       "      <td>364.0</td>\n",
       "      <td>4.953297e-15</td>\n",
       "      <td>65.877446</td>\n",
       "      <td>True</td>\n",
       "    </tr>\n",
       "    <tr>\n",
       "      <th>northwest</th>\n",
       "      <td>325.0</td>\n",
       "      <td>5.184209e-24</td>\n",
       "      <td>107.232850</td>\n",
       "      <td>True</td>\n",
       "    </tr>\n",
       "    <tr>\n",
       "      <th>northeast</th>\n",
       "      <td>324.0</td>\n",
       "      <td>1.455431e-19</td>\n",
       "      <td>86.747629</td>\n",
       "      <td>True</td>\n",
       "    </tr>\n",
       "  </tbody>\n",
       "</table>\n",
       "</div>"
      ],
      "text/plain": [
       "               n             p   test stat   sig\n",
       "southwest  325.0  6.125298e-23  102.294059  True\n",
       "southeast  364.0  4.953297e-15   65.877446  True\n",
       "northwest  325.0  5.184209e-24  107.232850  True\n",
       "northeast  324.0  1.455431e-19   86.747629  True"
      ]
     },
     "execution_count": 21,
     "metadata": {},
     "output_type": "execute_result"
    }
   ],
   "source": [
    "### checking sig with pandas \n",
    "norm_results_df['sig'] = norm_results_df['p'] < .05 \n",
    "norm_results_df"
   ]
  },
  {
   "cell_type": "code",
   "execution_count": 22,
   "id": "953e93e7",
   "metadata": {},
   "outputs": [
    {
     "data": {
      "text/plain": [
       "LeveneResult(statistic=5.559966758410606, pvalue=0.0008610590250786703)"
      ]
     },
     "execution_count": 22,
     "metadata": {},
     "output_type": "execute_result"
    }
   ],
   "source": [
    "# Testing Assumption of Equal Variance\n",
    "stats.levene(*groups.values())"
   ]
  },
  {
   "cell_type": "markdown",
   "id": "32f75c11",
   "metadata": {},
   "source": [
    "#### Normality met but unequal variance present. \n",
    "- Since the variance is not equal, the correct hypothesis test to use after levene, is the Marcellus Wallis test. "
   ]
  },
  {
   "cell_type": "code",
   "execution_count": 27,
   "id": "a5144970",
   "metadata": {},
   "outputs": [
    {
     "data": {
      "text/plain": [
       "KruskalResult(statistic=4.734181215658743, pvalue=0.19232908072121002)"
      ]
     },
     "execution_count": 27,
     "metadata": {},
     "output_type": "execute_result"
    }
   ],
   "source": [
    "# Using Kruskal-Wallis test instead of one-way ANOVA\n",
    "result = stats.kruskal( *groups.values())\n",
    "result"
   ]
  },
  {
   "cell_type": "markdown",
   "id": "77285851",
   "metadata": {},
   "source": [
    "#### After running the KruskalWallis test, the p-value is above .05 and I could fail to reject the null hypothesis."
   ]
  },
  {
   "cell_type": "code",
   "execution_count": 24,
   "id": "de88060a",
   "metadata": {},
   "outputs": [],
   "source": [
    "from statsmodels.stats.multicomp import pairwise_tukeyhsd\n",
    "## save the values as kg_lost and the labels to the Diet\n",
    "values = df['charges']\n",
    "labels = df['region']"
   ]
  },
  {
   "cell_type": "code",
   "execution_count": 25,
   "id": "510b640e",
   "metadata": {
    "scrolled": true
   },
   "outputs": [
    {
     "data": {
      "text/html": [
       "<table class=\"simpletable\">\n",
       "<caption>Multiple Comparison of Means - Tukey HSD, FWER=0.05</caption>\n",
       "<tr>\n",
       "   <th>group1</th>    <th>group2</th>    <th>meandiff</th>   <th>p-adj</th>    <th>lower</th>     <th>upper</th>   <th>reject</th>\n",
       "</tr>\n",
       "<tr>\n",
       "  <td>northeast</td> <td>northwest</td>  <td>-988.8091</td> <td>0.7245</td> <td>-3428.9343</td> <td>1451.3161</td>  <td>False</td>\n",
       "</tr>\n",
       "<tr>\n",
       "  <td>northeast</td> <td>southeast</td>  <td>1329.0269</td> <td>0.4745</td> <td>-1044.9417</td> <td>3702.9955</td>  <td>False</td>\n",
       "</tr>\n",
       "<tr>\n",
       "  <td>northeast</td> <td>southwest</td> <td>-1059.4471</td> <td>0.6792</td> <td>-3499.5723</td> <td>1380.6781</td>  <td>False</td>\n",
       "</tr>\n",
       "<tr>\n",
       "  <td>northwest</td> <td>southeast</td>  <td>2317.8361</td> <td>0.0583</td>  <td>-54.1994</td>  <td>4689.8716</td>  <td>False</td>\n",
       "</tr>\n",
       "<tr>\n",
       "  <td>northwest</td> <td>southwest</td>   <td>-70.638</td>  <td>0.9999</td> <td>-2508.8826</td> <td>2367.6066</td>  <td>False</td>\n",
       "</tr>\n",
       "<tr>\n",
       "  <td>southeast</td> <td>southwest</td> <td>-2388.4741</td> <td>0.0477</td> <td>-4760.5096</td> <td>-16.4386</td>   <td>True</td> \n",
       "</tr>\n",
       "</table>"
      ],
      "text/plain": [
       "<class 'statsmodels.iolib.table.SimpleTable'>"
      ]
     },
     "execution_count": 25,
     "metadata": {},
     "output_type": "execute_result"
    }
   ],
   "source": [
    "## perform tukey's multiple comparison test and display the summary\n",
    "tukeys_results = pairwise_tukeyhsd(values,labels)\n",
    "tukeys_results.summary()"
   ]
  },
  {
   "cell_type": "code",
   "execution_count": 26,
   "id": "3a07e7a9",
   "metadata": {},
   "outputs": [
    {
     "data": {
      "image/png": "[encoded data removed]",
      "text/plain": [
       "<Figure size 640x480 with 1 Axes>"
      ]
     },
     "metadata": {},
     "output_type": "display_data"
    }
   ],
   "source": [
    "sns.barplot(data=df, x='region', y='charges');"
   ]
  },
  {
   "cell_type": "markdown",
   "id": "40f908ee",
   "metadata": {},
   "source": [
    "## Interpret p-value and reject or fail to reject  null hypothesis"
   ]
  },
  {
   "cell_type": "markdown",
   "id": "468aa140",
   "metadata": {},
   "source": [
    "#### After running the ANOVA and Tukey's test provided from the learning platfrom, I can see the p-values are greater than .05 in every group but one. That group had a couple outliers that I did not remove and the value is very close to .05.\n",
    "\n",
    "- I can safely fail to reject the null hypothesis based on the p-values alone. The barplot visual also gives a reasonable even distribution of charges across each region.\n",
    "- There is not a significant difference in the charges for the differing regions in this data."
   ]
  }
 ],
 "metadata": {
  "kernelspec": {
   "display_name": "Python (dojo-env)",
   "language": "python",
   "name": "dojo-env"
  },
  "language_info": {
   "codemirror_mode": {
    "name": "ipython",
    "version": 3
   },
   "file_extension": ".py",
   "mimetype": "text/x-python",
   "name": "python",
   "nbconvert_exporter": "python",
   "pygments_lexer": "ipython3",
   "version": "3.9.15"
  },
  "toc": {
   "base_numbering": 1,
   "nav_menu": {},
   "number_sections": true,
   "sideBar": true,
   "skip_h1_title": false,
   "title_cell": "Table of Contents",
   "title_sidebar": "Contents",
   "toc_cell": false,
   "toc_position": {},
   "toc_section_display": true,
   "toc_window_display": false
  }
 },
 "nbformat": 4,
 "nbformat_minor": 5
}
